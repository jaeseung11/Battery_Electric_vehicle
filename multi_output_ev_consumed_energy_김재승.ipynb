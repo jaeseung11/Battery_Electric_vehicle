{
  "metadata": {
    "kernelspec": {
      "language": "python",
      "display_name": "Python 3",
      "name": "python3"
    },
    "language_info": {
      "pygments_lexer": "ipython3",
      "nbconvert_exporter": "python",
      "version": "3.6.4",
      "file_extension": ".py",
      "codemirror_mode": {
        "name": "ipython",
        "version": 3
      },
      "name": "python",
      "mimetype": "text/x-python"
    },
    "colab": {
      "provenance": []
    }
  },
  "nbformat_minor": 0,
  "nbformat": 4,
  "cells": [
    {
      "cell_type": "code",
      "source": [
        "# This Python 3 environment comes with many helpful analytics libraries installed\n",
        "# It is defined by the kaggle/python Docker image: https://github.com/kaggle/docker-python\n",
        "# For example, here's several helpful packages to load\n",
        "\n",
        "import numpy as np # linear algebra\n",
        "import pandas as pd # data processing, CSV file I/O (e.g. pd.read_csv)\n",
        "\n",
        "# Input data files are available in the read-only \"../input/\" directory\n",
        "# For example, running this (by clicking run or pressing Shift+Enter) will list all files under the input directory\n",
        "\n",
        "import os\n",
        "for dirname, _, filenames in os.walk('/kaggle/input'):\n",
        "    for filename in filenames:\n",
        "        print(os.path.join(dirname, filename))\n",
        "\n",
        "# You can write up to 20GB to the current directory (/kaggle/working/) that gets preserved as output when you create a version using \"Save & Run All\" \n",
        "# You can also write temporary files to /kaggle/temp/, but they won't be saved outside of the current session"
      ],
      "metadata": {
        "_uuid": "8f2839f25d086af736a60e9eeb907d3b93b6e0e5",
        "_cell_guid": "b1076dfc-b9ad-4769-8c92-a6c4dae69d19",
        "execution": {
          "iopub.status.busy": "2023-01-04T23:07:40.645572Z",
          "iopub.execute_input": "2023-01-04T23:07:40.645915Z",
          "iopub.status.idle": "2023-01-04T23:07:40.660422Z",
          "shell.execute_reply.started": "2023-01-04T23:07:40.645888Z",
          "shell.execute_reply": "2023-01-04T23:07:40.659529Z"
        },
        "trusted": true,
        "id": "A7Hfq-FR_X_s"
      },
      "execution_count": null,
      "outputs": []
    },
    {
      "cell_type": "code",
      "source": [
        "data=pd.read_csv('/kaggle/input/battery-electric-vehicles/Battery_Electric_Vehicles.csv')"
      ],
      "metadata": {
        "execution": {
          "iopub.status.busy": "2023-01-04T23:07:40.668976Z",
          "iopub.execute_input": "2023-01-04T23:07:40.670029Z",
          "iopub.status.idle": "2023-01-04T23:07:40.678573Z",
          "shell.execute_reply.started": "2023-01-04T23:07:40.669986Z",
          "shell.execute_reply": "2023-01-04T23:07:40.677888Z"
        },
        "trusted": true,
        "id": "tBmsT14v_X_x"
      },
      "execution_count": null,
      "outputs": []
    },
    {
      "cell_type": "code",
      "source": [
        "data.head()"
      ],
      "metadata": {
        "execution": {
          "iopub.status.busy": "2023-01-04T23:07:40.680678Z",
          "iopub.execute_input": "2023-01-04T23:07:40.681814Z",
          "iopub.status.idle": "2023-01-04T23:07:40.706572Z",
          "shell.execute_reply.started": "2023-01-04T23:07:40.681775Z",
          "shell.execute_reply": "2023-01-04T23:07:40.705672Z"
        },
        "trusted": true,
        "id": "n6Xlpdyg_X_x"
      },
      "execution_count": null,
      "outputs": []
    },
    {
      "cell_type": "markdown",
      "source": [
        "# **Fast EDA**"
      ],
      "metadata": {
        "id": "LBTTjGHi_X_y"
      }
    },
    {
      "cell_type": "code",
      "source": [
        "!pip install fasteda\n"
      ],
      "metadata": {
        "execution": {
          "iopub.status.busy": "2023-01-04T23:07:40.707949Z",
          "iopub.execute_input": "2023-01-04T23:07:40.708555Z",
          "iopub.status.idle": "2023-01-04T23:07:49.449685Z",
          "shell.execute_reply.started": "2023-01-04T23:07:40.708525Z",
          "shell.execute_reply": "2023-01-04T23:07:49.448396Z"
        },
        "trusted": true,
        "id": "nJiy7M7__X_z"
      },
      "execution_count": null,
      "outputs": []
    },
    {
      "cell_type": "code",
      "source": [
        "from fasteda import fast_eda\n",
        "fast_eda(data)"
      ],
      "metadata": {
        "execution": {
          "iopub.status.busy": "2023-01-04T23:07:49.451757Z",
          "iopub.execute_input": "2023-01-04T23:07:49.452181Z",
          "iopub.status.idle": "2023-01-04T23:07:53.408117Z",
          "shell.execute_reply.started": "2023-01-04T23:07:49.452134Z",
          "shell.execute_reply": "2023-01-04T23:07:53.407463Z"
        },
        "trusted": true,
        "id": "o_gzOGlU_X_0"
      },
      "execution_count": null,
      "outputs": []
    },
    {
      "cell_type": "code",
      "source": [
        "data.head()"
      ],
      "metadata": {
        "execution": {
          "iopub.status.busy": "2023-01-04T23:07:53.410256Z",
          "iopub.execute_input": "2023-01-04T23:07:53.411349Z",
          "iopub.status.idle": "2023-01-04T23:07:53.436717Z",
          "shell.execute_reply.started": "2023-01-04T23:07:53.411287Z",
          "shell.execute_reply": "2023-01-04T23:07:53.434824Z"
        },
        "trusted": true,
        "id": "US0tiIkj_X_1"
      },
      "execution_count": null,
      "outputs": []
    },
    {
      "cell_type": "code",
      "source": [
        "data['CO2 Emissions_(g/km)'].unique()"
      ],
      "metadata": {
        "execution": {
          "iopub.status.busy": "2023-01-04T23:07:53.438738Z",
          "iopub.execute_input": "2023-01-04T23:07:53.439073Z",
          "iopub.status.idle": "2023-01-04T23:07:53.454533Z",
          "shell.execute_reply.started": "2023-01-04T23:07:53.439044Z",
          "shell.execute_reply": "2023-01-04T23:07:53.452753Z"
        },
        "trusted": true,
        "id": "tuyElRkZ_X_1"
      },
      "execution_count": null,
      "outputs": []
    },
    {
      "cell_type": "code",
      "source": [
        "data['CO2 _Rating'].unique()"
      ],
      "metadata": {
        "execution": {
          "iopub.status.busy": "2023-01-04T23:07:53.456254Z",
          "iopub.execute_input": "2023-01-04T23:07:53.456931Z",
          "iopub.status.idle": "2023-01-04T23:07:53.470278Z",
          "shell.execute_reply.started": "2023-01-04T23:07:53.456892Z",
          "shell.execute_reply": "2023-01-04T23:07:53.468715Z"
        },
        "trusted": true,
        "id": "JBBtWIYw_X_1"
      },
      "execution_count": null,
      "outputs": []
    },
    {
      "cell_type": "code",
      "source": [
        "data['Smog_Rating'].unique()"
      ],
      "metadata": {
        "execution": {
          "iopub.status.busy": "2023-01-04T23:07:53.472078Z",
          "iopub.execute_input": "2023-01-04T23:07:53.472827Z",
          "iopub.status.idle": "2023-01-04T23:07:53.483946Z",
          "shell.execute_reply.started": "2023-01-04T23:07:53.472787Z",
          "shell.execute_reply": "2023-01-04T23:07:53.482666Z"
        },
        "trusted": true,
        "id": "qhSu5SNo_X_2"
      },
      "execution_count": null,
      "outputs": []
    },
    {
      "cell_type": "code",
      "source": [
        "data['Fuel_Type'].unique()"
      ],
      "metadata": {
        "execution": {
          "iopub.status.busy": "2023-01-04T23:07:53.485379Z",
          "iopub.execute_input": "2023-01-04T23:07:53.485736Z",
          "iopub.status.idle": "2023-01-04T23:07:53.494888Z",
          "shell.execute_reply.started": "2023-01-04T23:07:53.485702Z",
          "shell.execute_reply": "2023-01-04T23:07:53.493923Z"
        },
        "trusted": true,
        "id": "GMALxCCq_X_2"
      },
      "execution_count": null,
      "outputs": []
    },
    {
      "cell_type": "code",
      "source": [
        "df=data.drop(columns=['CO2 Emissions_(g/km)','CO2 _Rating','Smog_Rating','Fuel_Type'])"
      ],
      "metadata": {
        "execution": {
          "iopub.status.busy": "2023-01-04T23:07:53.496605Z",
          "iopub.execute_input": "2023-01-04T23:07:53.496876Z",
          "iopub.status.idle": "2023-01-04T23:07:53.509353Z",
          "shell.execute_reply.started": "2023-01-04T23:07:53.496843Z",
          "shell.execute_reply": "2023-01-04T23:07:53.508192Z"
        },
        "trusted": true,
        "id": "eQDnDcr2_X_3"
      },
      "execution_count": null,
      "outputs": []
    },
    {
      "cell_type": "code",
      "source": [
        "df.head()"
      ],
      "metadata": {
        "execution": {
          "iopub.status.busy": "2023-01-04T23:07:53.510911Z",
          "iopub.execute_input": "2023-01-04T23:07:53.511299Z",
          "iopub.status.idle": "2023-01-04T23:07:53.534904Z",
          "shell.execute_reply.started": "2023-01-04T23:07:53.511265Z",
          "shell.execute_reply": "2023-01-04T23:07:53.534012Z"
        },
        "trusted": true,
        "id": "4HZy_Er5_X_3"
      },
      "execution_count": null,
      "outputs": []
    },
    {
      "cell_type": "code",
      "source": [
        "df.info()"
      ],
      "metadata": {
        "execution": {
          "iopub.status.busy": "2023-01-04T23:07:53.536352Z",
          "iopub.execute_input": "2023-01-04T23:07:53.536608Z",
          "iopub.status.idle": "2023-01-04T23:07:53.556092Z",
          "shell.execute_reply.started": "2023-01-04T23:07:53.536584Z",
          "shell.execute_reply": "2023-01-04T23:07:53.554898Z"
        },
        "trusted": true,
        "id": "J4kndTlF_X_3"
      },
      "execution_count": null,
      "outputs": []
    },
    {
      "cell_type": "code",
      "source": [
        "df.corr()"
      ],
      "metadata": {
        "execution": {
          "iopub.status.busy": "2023-01-04T23:07:53.557016Z",
          "iopub.execute_input": "2023-01-04T23:07:53.557311Z",
          "iopub.status.idle": "2023-01-04T23:07:53.576257Z",
          "shell.execute_reply.started": "2023-01-04T23:07:53.557286Z",
          "shell.execute_reply": "2023-01-04T23:07:53.574513Z"
        },
        "trusted": true,
        "id": "Im0QQ91E_X_4"
      },
      "execution_count": null,
      "outputs": []
    },
    {
      "cell_type": "markdown",
      "source": [
        "#  Outlier Analysis and removal"
      ],
      "metadata": {
        "id": "L7tJL7Cc_X_4"
      }
    },
    {
      "cell_type": "code",
      "source": [
        "df['C_City (kWh/100 km)'].plot(kind='hist', bins=15)"
      ],
      "metadata": {
        "execution": {
          "iopub.status.busy": "2023-01-04T23:07:53.581238Z",
          "iopub.execute_input": "2023-01-04T23:07:53.581596Z",
          "iopub.status.idle": "2023-01-04T23:07:53.747462Z",
          "shell.execute_reply.started": "2023-01-04T23:07:53.581567Z",
          "shell.execute_reply": "2023-01-04T23:07:53.746359Z"
        },
        "trusted": true,
        "id": "rqchTTMG_X_4"
      },
      "execution_count": null,
      "outputs": []
    },
    {
      "cell_type": "code",
      "source": [
        "df['C_City (kWh/100 km)'].plot.box()"
      ],
      "metadata": {
        "execution": {
          "iopub.status.busy": "2023-01-04T23:07:53.748933Z",
          "iopub.execute_input": "2023-01-04T23:07:53.749320Z",
          "iopub.status.idle": "2023-01-04T23:07:53.875830Z",
          "shell.execute_reply.started": "2023-01-04T23:07:53.749281Z",
          "shell.execute_reply": "2023-01-04T23:07:53.874350Z"
        },
        "trusted": true,
        "id": "2E5pcH4__X_4"
      },
      "execution_count": null,
      "outputs": []
    },
    {
      "cell_type": "code",
      "source": [
        "Q1_1=df['C_City (kWh/100 km)'].quantile(0.25)\n",
        "Q2_1=df['C_City (kWh/100 km)'].quantile(0.75)\n",
        "QIR_1=Q2_1-Q1_1\n",
        "QIR_1"
      ],
      "metadata": {
        "execution": {
          "iopub.status.busy": "2023-01-04T23:07:53.878438Z",
          "iopub.execute_input": "2023-01-04T23:07:53.878945Z",
          "iopub.status.idle": "2023-01-04T23:07:53.892557Z",
          "shell.execute_reply.started": "2023-01-04T23:07:53.878898Z",
          "shell.execute_reply": "2023-01-04T23:07:53.891766Z"
        },
        "trusted": true,
        "id": "yKIjQfFR_X_4"
      },
      "execution_count": null,
      "outputs": []
    },
    {
      "cell_type": "code",
      "source": [
        "((df['C_City (kWh/100 km)']>(Q2_1+QIR_2*1.5))|(df['C_City (kWh/100 km)']<(Q1_1-QIR_2*1.5))).sum()"
      ],
      "metadata": {
        "execution": {
          "iopub.status.busy": "2023-01-04T23:07:53.894051Z",
          "iopub.execute_input": "2023-01-04T23:07:53.894942Z",
          "iopub.status.idle": "2023-01-04T23:07:53.911017Z",
          "shell.execute_reply.started": "2023-01-04T23:07:53.894905Z",
          "shell.execute_reply": "2023-01-04T23:07:53.909621Z"
        },
        "trusted": true,
        "id": "zWR_sOKM_X_5"
      },
      "execution_count": null,
      "outputs": []
    },
    {
      "cell_type": "code",
      "source": [
        "out1=(df['C_City (kWh/100 km)']>(Q2_1+QIR_2*1.5))|(df['C_City (kWh/100 km)']<(Q1_1-QIR_2*1.5))\n",
        "df[out1]=np.nan"
      ],
      "metadata": {
        "execution": {
          "iopub.status.busy": "2023-01-04T23:07:53.914064Z",
          "iopub.execute_input": "2023-01-04T23:07:53.914460Z",
          "iopub.status.idle": "2023-01-04T23:07:53.924680Z",
          "shell.execute_reply.started": "2023-01-04T23:07:53.914433Z",
          "shell.execute_reply": "2023-01-04T23:07:53.923883Z"
        },
        "trusted": true,
        "id": "hbAWbGD3_X_5"
      },
      "execution_count": null,
      "outputs": []
    },
    {
      "cell_type": "code",
      "source": [
        "df['C_Hwy (kWh/100 km)'].plot(kind='hist', bins=10)"
      ],
      "metadata": {
        "execution": {
          "iopub.status.busy": "2023-01-04T23:07:53.925689Z",
          "iopub.execute_input": "2023-01-04T23:07:53.926861Z",
          "iopub.status.idle": "2023-01-04T23:07:54.072628Z",
          "shell.execute_reply.started": "2023-01-04T23:07:53.926807Z",
          "shell.execute_reply": "2023-01-04T23:07:54.071830Z"
        },
        "trusted": true,
        "id": "tyP2-81p_X_5"
      },
      "execution_count": null,
      "outputs": []
    },
    {
      "cell_type": "code",
      "source": [
        "df['C_Hwy (kWh/100 km)'].plot.box()"
      ],
      "metadata": {
        "execution": {
          "iopub.status.busy": "2023-01-04T23:07:54.073971Z",
          "iopub.execute_input": "2023-01-04T23:07:54.074545Z",
          "iopub.status.idle": "2023-01-04T23:07:54.178895Z",
          "shell.execute_reply.started": "2023-01-04T23:07:54.074510Z",
          "shell.execute_reply": "2023-01-04T23:07:54.177900Z"
        },
        "trusted": true,
        "id": "udSY-IhJ_X_6"
      },
      "execution_count": null,
      "outputs": []
    },
    {
      "cell_type": "code",
      "source": [
        "df[['C_Hwy (kWh/100 km)','C_City (kWh/100 km)']].plot.box()"
      ],
      "metadata": {
        "execution": {
          "iopub.status.busy": "2023-01-04T23:07:54.180176Z",
          "iopub.execute_input": "2023-01-04T23:07:54.181356Z",
          "iopub.status.idle": "2023-01-04T23:07:54.304865Z",
          "shell.execute_reply.started": "2023-01-04T23:07:54.181317Z",
          "shell.execute_reply": "2023-01-04T23:07:54.303818Z"
        },
        "trusted": true,
        "id": "5-HUcmg7_X_6"
      },
      "execution_count": null,
      "outputs": []
    },
    {
      "cell_type": "code",
      "source": [
        "Q1_2=df['C_Hwy (kWh/100 km)'].quantile(0.25)\n",
        "Q2_2=df['C_Hwy (kWh/100 km)'].quantile(0.75)\n",
        "QIR_2=Q2_2-Q1_2\n",
        "QIR_2"
      ],
      "metadata": {
        "execution": {
          "iopub.status.busy": "2023-01-04T23:07:54.306528Z",
          "iopub.execute_input": "2023-01-04T23:07:54.306885Z",
          "iopub.status.idle": "2023-01-04T23:07:54.317163Z",
          "shell.execute_reply.started": "2023-01-04T23:07:54.306851Z",
          "shell.execute_reply": "2023-01-04T23:07:54.316190Z"
        },
        "trusted": true,
        "id": "DLLBPEUX_X_6"
      },
      "execution_count": null,
      "outputs": []
    },
    {
      "cell_type": "code",
      "source": [
        "((df['C_Hwy (kWh/100 km)']>(Q2_2+QIR_2*1.5))|(df['C_Hwy (kWh/100 km)']<(Q1_2-QIR_2*1.5))).sum()"
      ],
      "metadata": {
        "execution": {
          "iopub.status.busy": "2023-01-04T23:07:54.318415Z",
          "iopub.execute_input": "2023-01-04T23:07:54.319417Z",
          "iopub.status.idle": "2023-01-04T23:07:54.335982Z",
          "shell.execute_reply.started": "2023-01-04T23:07:54.319379Z",
          "shell.execute_reply": "2023-01-04T23:07:54.334392Z"
        },
        "trusted": true,
        "id": "mLmixJTU_X_6"
      },
      "execution_count": null,
      "outputs": []
    },
    {
      "cell_type": "code",
      "source": [
        "out=(df['C_Hwy (kWh/100 km)']>(Q2_2+QIR_2*1.5))|(df['C_Hwy (kWh/100 km)']<(Q1_2-QIR_2*1.5))\n",
        "df[out]=np.nan"
      ],
      "metadata": {
        "execution": {
          "iopub.status.busy": "2023-01-04T23:07:54.337591Z",
          "iopub.execute_input": "2023-01-04T23:07:54.338996Z",
          "iopub.status.idle": "2023-01-04T23:07:54.352015Z",
          "shell.execute_reply.started": "2023-01-04T23:07:54.338926Z",
          "shell.execute_reply": "2023-01-04T23:07:54.350081Z"
        },
        "trusted": true,
        "id": "DF0HeXQ9_X_7"
      },
      "execution_count": null,
      "outputs": []
    },
    {
      "cell_type": "code",
      "source": [
        "df=df.dropna().reset_index(drop=True)\n"
      ],
      "metadata": {
        "execution": {
          "iopub.status.busy": "2023-01-04T23:07:54.353856Z",
          "iopub.execute_input": "2023-01-04T23:07:54.354496Z",
          "iopub.status.idle": "2023-01-04T23:07:54.366578Z",
          "shell.execute_reply.started": "2023-01-04T23:07:54.354450Z",
          "shell.execute_reply": "2023-01-04T23:07:54.365679Z"
        },
        "trusted": true,
        "id": "uOdg4mOL_X_7"
      },
      "execution_count": null,
      "outputs": []
    },
    {
      "cell_type": "code",
      "source": [
        "df.isnull().sum()"
      ],
      "metadata": {
        "execution": {
          "iopub.status.busy": "2023-01-04T23:07:54.368067Z",
          "iopub.execute_input": "2023-01-04T23:07:54.368636Z",
          "iopub.status.idle": "2023-01-04T23:07:54.382833Z",
          "shell.execute_reply.started": "2023-01-04T23:07:54.368603Z",
          "shell.execute_reply": "2023-01-04T23:07:54.381730Z"
        },
        "trusted": true,
        "id": "e6o80MM7_X_7"
      },
      "execution_count": null,
      "outputs": []
    },
    {
      "cell_type": "code",
      "source": [
        "x_ax1 = range(len(df))\n",
        "plt.plot(x_ax1, df['C_City (kWh/100 km)'], label=\"C_City (kWh/100 km)\", color='c')\n",
        "plt.plot(x_ax1, df['C_Hwy (kWh/100 km)'], label=\"C_Hwy (kWh/100 km)\", color='b')\n",
        "#plt.plot(x_ax, Y_test.iloc[:,1], label=\"y2-test\", color='m')\n",
        "#plt.plot(x_ax, Y_pred[:,1], label=\"y2-pred\", color='r')\n",
        "plt.legend()\n",
        "plt.show()"
      ],
      "metadata": {
        "execution": {
          "iopub.status.busy": "2023-01-04T23:07:54.384798Z",
          "iopub.execute_input": "2023-01-04T23:07:54.385448Z",
          "iopub.status.idle": "2023-01-04T23:07:54.540987Z",
          "shell.execute_reply.started": "2023-01-04T23:07:54.385413Z",
          "shell.execute_reply": "2023-01-04T23:07:54.540168Z"
        },
        "trusted": true,
        "id": "uOfE9Oqt_X_7"
      },
      "execution_count": null,
      "outputs": []
    },
    {
      "cell_type": "markdown",
      "source": [
        "# Loading machine learning packages"
      ],
      "metadata": {
        "id": "PjmVk8g4_X_7"
      }
    },
    {
      "cell_type": "code",
      "source": [
        "!pip install scikit-multilearn"
      ],
      "metadata": {
        "execution": {
          "iopub.status.busy": "2023-01-04T23:07:54.542389Z",
          "iopub.execute_input": "2023-01-04T23:07:54.542941Z",
          "iopub.status.idle": "2023-01-04T23:08:03.254073Z",
          "shell.execute_reply.started": "2023-01-04T23:07:54.542906Z",
          "shell.execute_reply": "2023-01-04T23:08:03.252766Z"
        },
        "trusted": true,
        "id": "5nQRPpGU_X_7"
      },
      "execution_count": null,
      "outputs": []
    },
    {
      "cell_type": "markdown",
      "source": [
        "# Feature selection "
      ],
      "metadata": {
        "id": "s0d_RTjz_X_8"
      }
    },
    {
      "cell_type": "code",
      "source": [
        "features = ['Model_Year', 'Make', 'Model','Vehicle Class','Motor_(kW)', 'Transmission','Range_(km)','Recharge_Time (h)' ]\n",
        "X= pd.get_dummies(df[features])\n",
        "y= df[['C_City (kWh/100 km)', 'C_Hwy (kWh/100 km)']]"
      ],
      "metadata": {
        "execution": {
          "iopub.status.busy": "2023-01-04T23:08:03.255746Z",
          "iopub.execute_input": "2023-01-04T23:08:03.256047Z",
          "iopub.status.idle": "2023-01-04T23:08:03.272836Z",
          "shell.execute_reply.started": "2023-01-04T23:08:03.256017Z",
          "shell.execute_reply": "2023-01-04T23:08:03.271641Z"
        },
        "trusted": true,
        "id": "8EWqnsVs_X_8"
      },
      "execution_count": null,
      "outputs": []
    },
    {
      "cell_type": "markdown",
      "source": [
        "# Train / Test Split"
      ],
      "metadata": {
        "id": "tUmreZYr_X_8"
      }
    },
    {
      "cell_type": "code",
      "source": [
        "from sklearn.model_selection import train_test_split\n",
        "X_train, X_test, Y_train, Y_test = train_test_split( X, y, test_size=0.2, random_state=1)\n",
        "print ('Train set:', X_train.shape,  Y_train.shape)\n",
        "print ('Test set:', X_test.shape,  Y_test.shape)"
      ],
      "metadata": {
        "execution": {
          "iopub.status.busy": "2023-01-04T23:08:03.274547Z",
          "iopub.execute_input": "2023-01-04T23:08:03.274912Z",
          "iopub.status.idle": "2023-01-04T23:08:03.292012Z",
          "shell.execute_reply.started": "2023-01-04T23:08:03.274881Z",
          "shell.execute_reply": "2023-01-04T23:08:03.290155Z"
        },
        "trusted": true,
        "id": "C8AZmOLQ_X_9"
      },
      "execution_count": null,
      "outputs": []
    },
    {
      "cell_type": "markdown",
      "source": [
        "# Building the model"
      ],
      "metadata": {
        "id": "yyRapxzP_X_9"
      }
    },
    {
      "cell_type": "code",
      "source": [
        "from sklearn.multioutput import MultiOutputRegressor\n",
        "from sklearn.ensemble import GradientBoostingRegressor"
      ],
      "metadata": {
        "execution": {
          "iopub.status.busy": "2023-01-04T23:08:03.293919Z",
          "iopub.execute_input": "2023-01-04T23:08:03.294432Z",
          "iopub.status.idle": "2023-01-04T23:08:03.302908Z",
          "shell.execute_reply.started": "2023-01-04T23:08:03.294397Z",
          "shell.execute_reply": "2023-01-04T23:08:03.301703Z"
        },
        "trusted": true,
        "id": "PxRjY3vu_X_9"
      },
      "execution_count": null,
      "outputs": []
    },
    {
      "cell_type": "code",
      "source": [
        "MultiOutput=MultiOutputRegressor(GradientBoostingRegressor(random_state=0))"
      ],
      "metadata": {
        "execution": {
          "iopub.status.busy": "2023-01-04T23:08:03.304441Z",
          "iopub.execute_input": "2023-01-04T23:08:03.304742Z",
          "iopub.status.idle": "2023-01-04T23:08:03.316541Z",
          "shell.execute_reply.started": "2023-01-04T23:08:03.304711Z",
          "shell.execute_reply": "2023-01-04T23:08:03.315674Z"
        },
        "trusted": true,
        "id": "JRTMZ-og_X_9"
      },
      "execution_count": null,
      "outputs": []
    },
    {
      "cell_type": "code",
      "source": [
        "M_model=MultiOutput.fit(X_train,Y_train)"
      ],
      "metadata": {
        "execution": {
          "iopub.status.busy": "2023-01-04T23:08:03.317717Z",
          "iopub.execute_input": "2023-01-04T23:08:03.317978Z",
          "iopub.status.idle": "2023-01-04T23:08:03.455742Z",
          "shell.execute_reply.started": "2023-01-04T23:08:03.317953Z",
          "shell.execute_reply": "2023-01-04T23:08:03.454247Z"
        },
        "trusted": true,
        "id": "X_Au-vm__X_9"
      },
      "execution_count": null,
      "outputs": []
    },
    {
      "cell_type": "code",
      "source": [
        "Y_pred=M_model.predict(X_test)"
      ],
      "metadata": {
        "execution": {
          "iopub.status.busy": "2023-01-04T23:08:03.457408Z",
          "iopub.execute_input": "2023-01-04T23:08:03.457739Z",
          "iopub.status.idle": "2023-01-04T23:08:03.473714Z",
          "shell.execute_reply.started": "2023-01-04T23:08:03.457709Z",
          "shell.execute_reply": "2023-01-04T23:08:03.471651Z"
        },
        "trusted": true,
        "id": "xWM7Xy4z_X_-"
      },
      "execution_count": null,
      "outputs": []
    },
    {
      "cell_type": "code",
      "source": [
        "Y_test[0:5]"
      ],
      "metadata": {
        "execution": {
          "iopub.status.busy": "2023-01-04T23:08:03.475476Z",
          "iopub.execute_input": "2023-01-04T23:08:03.475831Z",
          "iopub.status.idle": "2023-01-04T23:08:03.493063Z",
          "shell.execute_reply.started": "2023-01-04T23:08:03.475801Z",
          "shell.execute_reply": "2023-01-04T23:08:03.491579Z"
        },
        "trusted": true,
        "id": "JYaPaVWP_X_-"
      },
      "execution_count": null,
      "outputs": []
    },
    {
      "cell_type": "code",
      "source": [
        "from sklearn.metrics import mean_squared_error\n",
        "\n",
        "mse = mean_squared_error(Y_test, M_model.predict(X_test))"
      ],
      "metadata": {
        "execution": {
          "iopub.status.busy": "2023-01-04T23:08:03.494911Z",
          "iopub.execute_input": "2023-01-04T23:08:03.495313Z",
          "iopub.status.idle": "2023-01-04T23:08:03.511607Z",
          "shell.execute_reply.started": "2023-01-04T23:08:03.495281Z",
          "shell.execute_reply": "2023-01-04T23:08:03.509433Z"
        },
        "trusted": true,
        "id": "egmtkIRq_X_-"
      },
      "execution_count": null,
      "outputs": []
    },
    {
      "cell_type": "code",
      "source": [
        "mse"
      ],
      "metadata": {
        "execution": {
          "iopub.status.busy": "2023-01-04T23:08:03.516258Z",
          "iopub.execute_input": "2023-01-04T23:08:03.516654Z",
          "iopub.status.idle": "2023-01-04T23:08:03.529050Z",
          "shell.execute_reply.started": "2023-01-04T23:08:03.516622Z",
          "shell.execute_reply": "2023-01-04T23:08:03.527237Z"
        },
        "trusted": true,
        "id": "UcJ07r0W_X_-"
      },
      "execution_count": null,
      "outputs": []
    },
    {
      "cell_type": "code",
      "source": [
        "score = M_model.score(X_train, Y_train)\n",
        "print(\"Training score:\", score)"
      ],
      "metadata": {
        "execution": {
          "iopub.status.busy": "2023-01-04T23:08:03.530779Z",
          "iopub.execute_input": "2023-01-04T23:08:03.531249Z",
          "iopub.status.idle": "2023-01-04T23:08:03.550067Z",
          "shell.execute_reply.started": "2023-01-04T23:08:03.531206Z",
          "shell.execute_reply": "2023-01-04T23:08:03.548598Z"
        },
        "trusted": true,
        "id": "_xyGJ37K_X_-"
      },
      "execution_count": null,
      "outputs": []
    },
    {
      "cell_type": "code",
      "source": [
        "score = M_model.score(X_test, Y_test)\n",
        "print(\"Test score:\", score)"
      ],
      "metadata": {
        "execution": {
          "iopub.status.busy": "2023-01-04T23:08:03.551448Z",
          "iopub.execute_input": "2023-01-04T23:08:03.551853Z",
          "iopub.status.idle": "2023-01-04T23:08:03.571597Z",
          "shell.execute_reply.started": "2023-01-04T23:08:03.551813Z",
          "shell.execute_reply": "2023-01-04T23:08:03.570820Z"
        },
        "trusted": true,
        "id": "Xz151_jo_X_-"
      },
      "execution_count": null,
      "outputs": []
    },
    {
      "cell_type": "code",
      "source": [
        "print(\"y1 MSE:%.4f\" % mean_squared_error(Y_test.iloc[:,0], Y_pred[:,0])) \n",
        "print(\"y2 MSE:%.4f\" % mean_squared_error(Y_test.iloc[:,1], Y_pred[:,1]))"
      ],
      "metadata": {
        "execution": {
          "iopub.status.busy": "2023-01-04T23:08:03.572825Z",
          "iopub.execute_input": "2023-01-04T23:08:03.573147Z",
          "iopub.status.idle": "2023-01-04T23:08:03.588272Z",
          "shell.execute_reply.started": "2023-01-04T23:08:03.573090Z",
          "shell.execute_reply": "2023-01-04T23:08:03.586812Z"
        },
        "trusted": true,
        "id": "YM2DLIkJ_X__"
      },
      "execution_count": null,
      "outputs": []
    },
    {
      "cell_type": "code",
      "source": [
        "import matplotlib.pyplot as plt"
      ],
      "metadata": {
        "execution": {
          "iopub.status.busy": "2023-01-04T23:08:03.594963Z",
          "iopub.execute_input": "2023-01-04T23:08:03.595332Z",
          "iopub.status.idle": "2023-01-04T23:08:03.600090Z",
          "shell.execute_reply.started": "2023-01-04T23:08:03.595300Z",
          "shell.execute_reply": "2023-01-04T23:08:03.598556Z"
        },
        "trusted": true,
        "id": "10pH-XK9_X__"
      },
      "execution_count": null,
      "outputs": []
    },
    {
      "cell_type": "code",
      "source": [
        "Y_test.shape"
      ],
      "metadata": {
        "execution": {
          "iopub.status.busy": "2023-01-04T23:08:03.601727Z",
          "iopub.execute_input": "2023-01-04T23:08:03.602349Z",
          "iopub.status.idle": "2023-01-04T23:08:03.617477Z",
          "shell.execute_reply.started": "2023-01-04T23:08:03.602305Z",
          "shell.execute_reply": "2023-01-04T23:08:03.615204Z"
        },
        "trusted": true,
        "id": "pNu19FfH_X__"
      },
      "execution_count": null,
      "outputs": []
    },
    {
      "cell_type": "code",
      "source": [
        "Y_test.iloc[:, 0]"
      ],
      "metadata": {
        "execution": {
          "iopub.status.busy": "2023-01-04T23:08:03.619186Z",
          "iopub.execute_input": "2023-01-04T23:08:03.619633Z",
          "iopub.status.idle": "2023-01-04T23:08:03.638393Z",
          "shell.execute_reply.started": "2023-01-04T23:08:03.619592Z",
          "shell.execute_reply": "2023-01-04T23:08:03.636283Z"
        },
        "trusted": true,
        "id": "o4blWEpe_X__"
      },
      "execution_count": null,
      "outputs": []
    },
    {
      "cell_type": "code",
      "source": [
        "#Finally, we'll visualize the results in the plot and check them visually.\n",
        "\n",
        "x_ax = range(len(X_test))\n",
        "plt.plot(x_ax, Y_test.iloc[:,0], label=\"y1-test\", color='c')\n",
        "plt.plot(x_ax, Y_pred[:,0], label=\"y1-pred\", color='b')\n",
        "#plt.plot(x_ax, Y_test.iloc[:,1], label=\"y2-test\", color='m')\n",
        "#plt.plot(x_ax, Y_pred[:,1], label=\"y2-pred\", color='r')\n",
        "plt.legend()\n",
        "plt.show()"
      ],
      "metadata": {
        "execution": {
          "iopub.status.busy": "2023-01-04T23:08:03.641473Z",
          "iopub.execute_input": "2023-01-04T23:08:03.641853Z",
          "iopub.status.idle": "2023-01-04T23:08:03.823736Z",
          "shell.execute_reply.started": "2023-01-04T23:08:03.641821Z",
          "shell.execute_reply": "2023-01-04T23:08:03.822014Z"
        },
        "trusted": true,
        "id": "HGO-EkYp_X__"
      },
      "execution_count": null,
      "outputs": []
    },
    {
      "cell_type": "code",
      "source": [
        "x_ax2 = range(len(X_test))\n",
        "plt.plot(x_ax2, Y_test.iloc[:,1], label=\"y2-test\", color='m')\n",
        "plt.plot(x_ax2, Y_pred[:,1], label=\"y2-pred\", color='r')\n",
        "plt.legend()\n",
        "plt.show()"
      ],
      "metadata": {
        "execution": {
          "iopub.status.busy": "2023-01-04T23:08:03.826421Z",
          "iopub.execute_input": "2023-01-04T23:08:03.827225Z",
          "iopub.status.idle": "2023-01-04T23:08:03.986691Z",
          "shell.execute_reply.started": "2023-01-04T23:08:03.827181Z",
          "shell.execute_reply": "2023-01-04T23:08:03.985039Z"
        },
        "trusted": true,
        "id": "vCaTfsI4_X__"
      },
      "execution_count": null,
      "outputs": []
    },
    {
      "cell_type": "markdown",
      "source": [
        "# The End"
      ],
      "metadata": {
        "id": "S444fguX_YAA"
      }
    }
  ]
}